{
  "nbformat": 4,
  "nbformat_minor": 0,
  "metadata": {
    "colab": {
      "provenance": []
    },
    "kernelspec": {
      "name": "python3",
      "display_name": "Python 3"
    },
    "language_info": {
      "name": "python"
    }
  },
  "cells": [
    {
      "cell_type": "code",
      "execution_count": null,
      "metadata": {
        "id": "i0eJMibbiCqF"
      },
      "outputs": [],
      "source": [
        "import pandas as pd\n",
        "from sklearn.model_selection import train_test_split\n",
        "from sklearn.preprocessing import LabelEncoder, StandardScaler\n",
        "import tensorflow as tf\n",
        "from tensorflow.keras.models import Sequential\n",
        "from tensorflow.keras.layers import Dense\n",
        "import numpy as np"
      ]
    },
    {
      "cell_type": "code",
      "source": [
        "data = pd.read_csv('drug200.csv')"
      ],
      "metadata": {
        "id": "YghUxazFigCY"
      },
      "execution_count": null,
      "outputs": []
    },
    {
      "cell_type": "code",
      "source": [
        "X = data.iloc[:, :-1]\n",
        "y = data.iloc[:, -1]"
      ],
      "metadata": {
        "id": "10C6fp1timFm"
      },
      "execution_count": null,
      "outputs": []
    },
    {
      "cell_type": "code",
      "source": [
        "label_encoder = LabelEncoder()\n",
        "y = label_encoder.fit_transform(y)"
      ],
      "metadata": {
        "id": "O7Zpp83-irXq"
      },
      "execution_count": null,
      "outputs": []
    },
    {
      "cell_type": "code",
      "source": [
        "categorical_cols = ['Sex', 'BP', 'Cholesterol']\n",
        "X_categorical = X[categorical_cols]\n",
        "X_categorical_encoded = pd.get_dummies(X_categorical)"
      ],
      "metadata": {
        "id": "-jhR1jffjRtq"
      },
      "execution_count": null,
      "outputs": []
    },
    {
      "cell_type": "code",
      "source": [
        "X_numerical = X.drop(categorical_cols, axis=1)\n",
        "X_encoded = pd.concat([X_numerical, X_categorical_encoded], axis=1)"
      ],
      "metadata": {
        "id": "kq7KfeB-m1vB"
      },
      "execution_count": null,
      "outputs": []
    },
    {
      "cell_type": "code",
      "source": [
        "X_train, X_test, y_train, y_test = train_test_split(X_encoded, y, test_size=0.2, random_state=42)"
      ],
      "metadata": {
        "id": "NMnqRjY5nFc5"
      },
      "execution_count": null,
      "outputs": []
    },
    {
      "cell_type": "code",
      "source": [
        "scaler = StandardScaler()\n",
        "X_train = scaler.fit_transform(X_train)\n",
        "X_test = scaler.transform(X_test)"
      ],
      "metadata": {
        "id": "0bDX8eWonJ2C"
      },
      "execution_count": null,
      "outputs": []
    },
    {
      "cell_type": "code",
      "source": [
        "model = Sequential()\n",
        "model.add(Dense(64, activation='relu', input_shape=(X_train.shape[1],)))\n",
        "model.add(Dense(64, activation='relu'))\n",
        "model.add(Dense(64, activation='relu'))\n",
        "model.add(Dense(len(label_encoder.classes_), activation='softmax'))"
      ],
      "metadata": {
        "id": "NJFwpVd8nNWJ"
      },
      "execution_count": null,
      "outputs": []
    },
    {
      "cell_type": "code",
      "source": [
        "model.compile(loss='sparse_categorical_crossentropy', optimizer='adam', metrics=['accuracy'])"
      ],
      "metadata": {
        "id": "oVyeqD2jnYeN"
      },
      "execution_count": null,
      "outputs": []
    },
    {
      "cell_type": "code",
      "source": [
        "model.fit(X_train, y_train, epochs=10, batch_size=32)"
      ],
      "metadata": {
        "colab": {
          "base_uri": "https://localhost:8080/"
        },
        "id": "Nkrr1ac-nbbN",
        "outputId": "b8ba96b6-78bb-4a47-b80b-95dc7402e625"
      },
      "execution_count": null,
      "outputs": [
        {
          "output_type": "stream",
          "name": "stdout",
          "text": [
            "Epoch 1/10\n",
            "5/5 [==============================] - 2s 6ms/step - loss: 1.6161 - accuracy: 0.1437\n",
            "Epoch 2/10\n",
            "5/5 [==============================] - 0s 5ms/step - loss: 1.4398 - accuracy: 0.4125\n",
            "Epoch 3/10\n",
            "5/5 [==============================] - 0s 4ms/step - loss: 1.2729 - accuracy: 0.5437\n",
            "Epoch 4/10\n",
            "5/5 [==============================] - 0s 4ms/step - loss: 1.1340 - accuracy: 0.5813\n",
            "Epoch 5/10\n",
            "5/5 [==============================] - 0s 4ms/step - loss: 1.0043 - accuracy: 0.6375\n",
            "Epoch 6/10\n",
            "5/5 [==============================] - 0s 4ms/step - loss: 0.8950 - accuracy: 0.6875\n",
            "Epoch 7/10\n",
            "5/5 [==============================] - 0s 4ms/step - loss: 0.7952 - accuracy: 0.7188\n",
            "Epoch 8/10\n",
            "5/5 [==============================] - 0s 5ms/step - loss: 0.7062 - accuracy: 0.7563\n",
            "Epoch 9/10\n",
            "5/5 [==============================] - 0s 5ms/step - loss: 0.6226 - accuracy: 0.7625\n",
            "Epoch 10/10\n",
            "5/5 [==============================] - 0s 5ms/step - loss: 0.5431 - accuracy: 0.8000\n"
          ]
        },
        {
          "output_type": "execute_result",
          "data": {
            "text/plain": [
              "<keras.callbacks.History at 0x7f0a2f6eaf80>"
            ]
          },
          "metadata": {},
          "execution_count": 21
        }
      ]
    },
    {
      "cell_type": "code",
      "source": [
        "num_samples = 10\n",
        "random_data = np.random.rand(num_samples, X_train.shape[1])"
      ],
      "metadata": {
        "id": "Oxpet3g4neAs"
      },
      "execution_count": null,
      "outputs": []
    },
    {
      "cell_type": "code",
      "source": [
        "random_data_scaled = scaler.transform(random_data)"
      ],
      "metadata": {
        "colab": {
          "base_uri": "https://localhost:8080/"
        },
        "id": "wuQd2WXunkxN",
        "outputId": "b7bc9e37-bb9a-45f7-f6c3-1ee572b75a78"
      },
      "execution_count": null,
      "outputs": [
        {
          "output_type": "stream",
          "name": "stderr",
          "text": [
            "/usr/local/lib/python3.10/dist-packages/sklearn/base.py:439: UserWarning: X does not have valid feature names, but StandardScaler was fitted with feature names\n",
            "  warnings.warn(\n"
          ]
        }
      ]
    },
    {
      "cell_type": "code",
      "source": [
        "predictions = model.predict(random_data_scaled)\n"
      ],
      "metadata": {
        "colab": {
          "base_uri": "https://localhost:8080/"
        },
        "id": "vg8aa7IrnnC5",
        "outputId": "7a68e3a4-6c28-4e14-9c88-620402c9d15e"
      },
      "execution_count": null,
      "outputs": [
        {
          "output_type": "stream",
          "name": "stdout",
          "text": [
            "1/1 [==============================] - 0s 211ms/step\n"
          ]
        }
      ]
    },
    {
      "cell_type": "code",
      "source": [
        "predicted_labels = label_encoder.inverse_transform(predictions.argmax(axis=1))"
      ],
      "metadata": {
        "id": "Cl-9Z7UynrIw"
      },
      "execution_count": null,
      "outputs": []
    },
    {
      "cell_type": "code",
      "source": [
        "for i in range(num_samples):\n",
        "    print(f\"Random Data: {random_data[i]}\")\n",
        "    print(f\"Predicted Label: {predicted_labels[i]}\\n\")"
      ],
      "metadata": {
        "id": "pS358JnPntoN",
        "outputId": "3ae921dc-3660-48ef-8973-e9d381f46d60",
        "colab": {
          "base_uri": "https://localhost:8080/"
        }
      },
      "execution_count": null,
      "outputs": [
        {
          "output_type": "stream",
          "name": "stdout",
          "text": [
            "Random Data: [0.90484273 0.27699634 0.23952517 0.69514805 0.36082151 0.57401994\n",
            " 0.04847241 0.77008663 0.0886544 ]\n",
            "Predicted Label: drugX\n",
            "\n",
            "Random Data: [0.76783872 0.89814657 0.77398752 0.91409754 0.78378823 0.20915637\n",
            " 0.96594069 0.75321181 0.47815342]\n",
            "Predicted Label: drugX\n",
            "\n",
            "Random Data: [0.23664179 0.58848688 0.49532506 0.05032353 0.72860168 0.91714054\n",
            " 0.72800464 0.16804578 0.26158106]\n",
            "Predicted Label: drugX\n",
            "\n",
            "Random Data: [0.79837762 0.68260894 0.64788292 0.38513273 0.19089221 0.08681221\n",
            " 0.52573029 0.58521338 0.01024627]\n",
            "Predicted Label: drugX\n",
            "\n",
            "Random Data: [0.19595077 0.48566305 0.41335507 0.16193204 0.9921903  0.06595966\n",
            " 0.59036897 0.30177265 0.06308823]\n",
            "Predicted Label: drugX\n",
            "\n",
            "Random Data: [0.44564554 0.05944483 0.59900521 0.03800942 0.8228081  0.49623612\n",
            " 0.83053594 0.87924694 0.46283755]\n",
            "Predicted Label: drugX\n",
            "\n",
            "Random Data: [0.49753124 0.13922703 0.94626551 0.92936026 0.43673296 0.35016609\n",
            " 0.59752951 0.79325002 0.89549903]\n",
            "Predicted Label: drugX\n",
            "\n",
            "Random Data: [0.88824861 0.35703775 0.53747622 0.86236813 0.55186733 0.01713053\n",
            " 0.45735679 0.07631692 0.22603644]\n",
            "Predicted Label: drugX\n",
            "\n",
            "Random Data: [0.84255747 0.01458245 0.17845959 0.43313799 0.87808451 0.2087573\n",
            " 0.92146662 0.90470713 0.76089251]\n",
            "Predicted Label: drugX\n",
            "\n",
            "Random Data: [0.65719651 0.82863845 0.89631864 0.26988624 0.69800421 0.35560431\n",
            " 0.40911465 0.10303108 0.34271417]\n",
            "Predicted Label: drugX\n",
            "\n"
          ]
        }
      ]
    },
    {
      "cell_type": "code",
      "source": [],
      "metadata": {
        "id": "xOug3Gsznv3b"
      },
      "execution_count": null,
      "outputs": []
    }
  ]
}